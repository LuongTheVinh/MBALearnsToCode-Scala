{
 "cells": [
  {
   "cell_type": "code",
   "execution_count": 1,
   "metadata": {
    "collapsed": false
   },
   "outputs": [
    {
     "data": {
      "text/plain": [
       "defined \u001b[32mfunction \u001b[36msumFunc\u001b[0m"
      ]
     },
     "metadata": {},
     "output_type": "display_data"
    }
   ],
   "source": [
    "def sumFunc(func: Int => BigInt, fromInt: Int, toInt: Int): BigInt = {\n",
    "    \n",
    "    def recursive_add(acc: BigInt, a: Int, b: Int): BigInt =\n",
    "        if (a > b) acc else recursive_add(acc + func(a), a + 1, b)\n",
    "    \n",
    "    recursive_add(0, fromInt, toInt)\n",
    "    \n",
    "}"
   ]
  },
  {
   "cell_type": "code",
   "execution_count": 2,
   "metadata": {
    "collapsed": false
   },
   "outputs": [
    {
     "data": {
      "text/plain": [
       "defined \u001b[32mfunction \u001b[36mid\u001b[0m\n",
       "defined \u001b[32mfunction \u001b[36msumInts\u001b[0m\n",
       "\u001b[36mres1_2\u001b[0m: \u001b[32mBigInt\u001b[0m = 165"
      ]
     },
     "metadata": {},
     "output_type": "display_data"
    }
   ],
   "source": [
    "def id(x: Int): Int = x\n",
    "\n",
    "def sumInts(fromInt: Int, toInt: Int): BigInt = sumFunc(id, fromInt, toInt)\n",
    "\n",
    "sumInts(10, 20)"
   ]
  },
  {
   "cell_type": "code",
   "execution_count": 3,
   "metadata": {
    "collapsed": false
   },
   "outputs": [
    {
     "data": {
      "text/plain": [
       "defined \u001b[32mfunction \u001b[36mcube\u001b[0m\n",
       "defined \u001b[32mfunction \u001b[36msumCubes\u001b[0m\n",
       "\u001b[36mres2_2\u001b[0m: \u001b[32mBigInt\u001b[0m = 99"
      ]
     },
     "metadata": {},
     "output_type": "display_data"
    }
   ],
   "source": [
    "def cube(x: Int): BigInt = x * x * x\n",
    "\n",
    "def sumCubes(fromInt: Int, toInt: Int): BigInt = sumFunc(cube, fromInt, toInt)\n",
    "\n",
    "sumCubes(2, 4)"
   ]
  },
  {
   "cell_type": "code",
   "execution_count": 4,
   "metadata": {
    "collapsed": false
   },
   "outputs": [
    {
     "data": {
      "text/plain": [
       "defined \u001b[32mfunction \u001b[36mfactorial\u001b[0m\n",
       "defined \u001b[32mfunction \u001b[36msumFactorials\u001b[0m\n",
       "\u001b[36mres3_2\u001b[0m: \u001b[32mBigInt\u001b[0m = 870"
      ]
     },
     "metadata": {},
     "output_type": "display_data"
    }
   ],
   "source": [
    "def factorial(x: Int): BigInt = {\n",
    "    \n",
    "    def recursive_multiply(acc: BigInt, n: Int): BigInt =\n",
    "        if (n == 0) acc else recursive_multiply(acc * n, n - 1)\n",
    "    \n",
    "    recursive_multiply(1, x)\n",
    "    \n",
    "}\n",
    "\n",
    "def sumFactorials(fromInt: Int, toInt: Int) = sumFunc(factorial, fromInt, toInt)\n",
    "\n",
    "sumFactorials(3, 6)"
   ]
  }
 ],
 "metadata": {
  "kernelspec": {
   "display_name": "Scala 2.11",
   "language": "scala211",
   "name": "scala211"
  },
  "language_info": {
   "codemirror_mode": "text/x-scala",
   "file_extension": ".scala",
   "mimetype": "text/x-scala",
   "name": "scala211",
   "pygments_lexer": "scala",
   "version": "2.11.6"
  },
  "latex_envs": {
   "bibliofile": "biblio.bib",
   "cite_by": "apalike",
   "current_citInitial": 1,
   "eqLabelWithNumbers": true,
   "eqNumInitial": 0
  },
  "toc": {
   "toc_cell": false,
   "toc_number_sections": true,
   "toc_threshold": 4,
   "toc_window_display": true
  }
 },
 "nbformat": 4,
 "nbformat_minor": 0
}
