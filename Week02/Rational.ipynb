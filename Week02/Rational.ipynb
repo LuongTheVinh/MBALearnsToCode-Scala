{
 "cells": [
  {
   "cell_type": "markdown",
   "metadata": {},
   "source": [
    "# Import `scala` modules"
   ]
  },
  {
   "cell_type": "code",
   "execution_count": 1,
   "metadata": {
    "collapsed": false
   },
   "outputs": [
    {
     "data": {
      "text/plain": [
       "\u001b[32mimport \u001b[36mmath.{abs, signum}\u001b[0m"
      ]
     },
     "metadata": {},
     "output_type": "display_data"
    }
   ],
   "source": [
    "import math.{abs, signum}"
   ]
  },
  {
   "cell_type": "markdown",
   "metadata": {},
   "source": [
    "# __`Rational`__ class"
   ]
  },
  {
   "cell_type": "code",
   "execution_count": 2,
   "metadata": {
    "collapsed": false
   },
   "outputs": [
    {
     "data": {
      "text/plain": [
       "defined \u001b[32mclass \u001b[36mRational\u001b[0m"
      ]
     },
     "metadata": {},
     "output_type": "display_data"
    }
   ],
   "source": [
    "class Rational(\n",
    "        x: Int,\n",
    "        y: Int) {\n",
    "    \n",
    "    // require Denominator to be non-zero\n",
    "    require(\n",
    "        y != 0,\n",
    "        \"Denominator must be non-zero!\")\n",
    "    \n",
    "    /** define another class constructor with just Numerator,\n",
    "        assuming Denominator is 1.0 */\n",
    "    def this(x: Int) =\n",
    "        this(x, 1)\n",
    "    \n",
    "    // define function to calculate Greatest Common Divisor\n",
    "    private def greatestCommonDiv(a: Int, b: Int): Int =\n",
    "        if (b == 0) abs(a) else greatestCommonDiv(b, a % b)\n",
    "    \n",
    "    // calculate Greatest Common Divisor\n",
    "    private val g = greatestCommonDiv(x, y)\n",
    "    \n",
    "    // get the sign of Denominator\n",
    "    private val s = signum(y)\n",
    "    \n",
    "    // define simplified Numerator & Denominator \n",
    "    val numerator = s * x / g\n",
    "    val denominator = s * y / g\n",
    "    \n",
    "    // define how to print the object\n",
    "    override def toString = numerator + \"/\" + denominator\n",
    "    \n",
    "    \n",
    "    // define unary operations\n",
    "    def pos =\n",
    "        this\n",
    "    \n",
    "    def unary_+ =\n",
    "        pos\n",
    "    \n",
    "    def neg =\n",
    "        new Rational(\n",
    "            - numerator,\n",
    "            denominator)\n",
    "    \n",
    "    def unary_- =\n",
    "        neg\n",
    "    \n",
    "    def inv =\n",
    "        new Rational(\n",
    "            denominator,\n",
    "            numerator)\n",
    "    \n",
    "    \n",
    "    // define binary operations\n",
    "    def eq(that: Rational) =\n",
    "        numerator * that.denominator == denominator * that.numerator\n",
    "    \n",
    "    def ==(that: Rational) =\n",
    "        eq(that)\n",
    "    \n",
    "    def ne(that: Rational) =\n",
    "        !eq(that)\n",
    "    \n",
    "    def !=(that: Rational) =\n",
    "        ne(that)\n",
    "    \n",
    "    def gt(that: Rational) = \n",
    "        denominator * that.denominator * (that.denominator * numerator - denominator * that.numerator) > 0\n",
    "    \n",
    "    def >(that: Rational) =\n",
    "        gt(that)\n",
    "\n",
    "    def ge(that: Rational) =\n",
    "        >(that) || ==(that)\n",
    "\n",
    "    def >=(that: Rational) =\n",
    "        ge(that)\n",
    "    \n",
    "    def lt(that: Rational) =\n",
    "        that.gt(this)\n",
    "    \n",
    "    def <(that: Rational) =\n",
    "        lt(that)\n",
    "    \n",
    "    def le(that: Rational) =\n",
    "        <(that) || ==(that)\n",
    "    \n",
    "    def <=(that: Rational) =\n",
    "        le(that)\n",
    "    \n",
    "    def max(that: Rational) =\n",
    "        if (>(that)) this else that\n",
    "    \n",
    "    def min(that: Rational) = \n",
    "        if (<(that)) this else that\n",
    "    \n",
    "    def add(that: Rational) =\n",
    "        new Rational(\n",
    "            that.denominator * numerator + denominator * that.numerator,\n",
    "            denominator * that.denominator)\n",
    "    \n",
    "    def +(that: Rational) =\n",
    "        add(that)\n",
    "    \n",
    "    def sub(that: Rational) =\n",
    "        this + (-that)\n",
    "    \n",
    "    def -(that: Rational) =\n",
    "        sub(that)\n",
    "    \n",
    "    def mul(that: Rational) =\n",
    "        new Rational(\n",
    "            numerator * that.numerator,\n",
    "            denominator * that.denominator)\n",
    "    \n",
    "    def *(that: Rational) =\n",
    "        mul(that)\n",
    "    \n",
    "    def div(that: Rational) =\n",
    "        mul(that.inv)\n",
    "    \n",
    "    def /(that: Rational) =\n",
    "        div(that)\n",
    "\n",
    "}"
   ]
  },
  {
   "cell_type": "markdown",
   "metadata": {},
   "source": [
    "# Create a few `Rational`s"
   ]
  },
  {
   "cell_type": "code",
   "execution_count": 3,
   "metadata": {
    "collapsed": false
   },
   "outputs": [
    {
     "data": {
      "text/plain": [
       "\u001b[36mr\u001b[0m: \u001b[32mRational\u001b[0m = 1/2\n",
       "\u001b[36mnr\u001b[0m: \u001b[32mRational\u001b[0m = -1/2\n",
       "\u001b[36mR\u001b[0m: \u001b[32mRational\u001b[0m = 1/2\n",
       "\u001b[36ms\u001b[0m: \u001b[32mRational\u001b[0m = 3/4\n",
       "\u001b[36mz\u001b[0m: \u001b[32mRational\u001b[0m = 0/1\n",
       "\u001b[36mZ\u001b[0m: \u001b[32mRational\u001b[0m = 0/1"
      ]
     },
     "metadata": {},
     "output_type": "display_data"
    }
   ],
   "source": [
    "val r = new Rational(1, 2)\n",
    "\n",
    "val nr = new Rational(1, -2)\n",
    "\n",
    "val R = new Rational(2, 4)\n",
    "\n",
    "val s = new Rational(3, 4)\n",
    "\n",
    "val z = new Rational(0, 1)\n",
    "\n",
    "val Z = new Rational(0, -3)"
   ]
  },
  {
   "cell_type": "markdown",
   "metadata": {},
   "source": [
    "# Unary Operations on `r`"
   ]
  },
  {
   "cell_type": "code",
   "execution_count": 4,
   "metadata": {
    "collapsed": false
   },
   "outputs": [
    {
     "name": "stdout",
     "output_type": "stream",
     "text": [
      "+ 1/2   = 1/2\n",
      "- 1/2   = -1/2\n",
      "Inverse 1/2   = 2/1\n"
     ]
    },
    {
     "data": {
      "text/plain": []
     },
     "metadata": {},
     "output_type": "display_data"
    }
   ],
   "source": [
    "println(s\"+ $r   = ${+r}\")\n",
    "println(s\"- $r   = ${-r}\")\n",
    "println(s\"Inverse $r   = ${r.inv}\")"
   ]
  },
  {
   "cell_type": "markdown",
   "metadata": {},
   "source": [
    "# Binary Operations on `r` and `R`"
   ]
  },
  {
   "cell_type": "code",
   "execution_count": 5,
   "metadata": {
    "collapsed": false
   },
   "outputs": [
    {
     "name": "stdout",
     "output_type": "stream",
     "text": [
      "1/2 equal to 1/2   = true\n",
      "1/2 == 1/2   = true\n",
      "\n",
      "1/2 greater than 1/2   = false\n",
      "1/2 > 1/2   = false\n",
      "\n",
      "1/2 greater than or equal to 1/2   = true\n",
      "1/2 >= 1/2   = true\n",
      "\n",
      "1/2 less than 1/2   = false\n",
      "1/2 < 1/2   = false\n",
      "\n",
      "1/2 less than or equal to 1/2   = true\n",
      "1/2 <= 1/2   = true\n",
      "\n",
      "1/2 plus 1/2   = 1/1\n",
      "1/2 + 1/2   = 1/1\n",
      "\n",
      "1/2 minus 1/2   = 0/1\n",
      "1/2 - 1/2   = 0/1\n",
      "\n",
      "1/2 times 1/2   = 1/4\n",
      "1/2 * 1/2   = 1/4\n",
      "\n",
      "1/2 divided by 1/2   = 1/1\n",
      "1/2 / 1/2   = 1/1\n"
     ]
    },
    {
     "data": {
      "text/plain": []
     },
     "metadata": {},
     "output_type": "display_data"
    }
   ],
   "source": [
    "println(s\"$r equal to $R   = ${r.eq(R)}\")\n",
    "println(s\"$r == $R   = ${r == R}\\n\")\n",
    "\n",
    "println(s\"$r greater than $R   = ${r.gt(R)}\")\n",
    "println(s\"$r > $R   = ${r > R}\\n\")\n",
    "\n",
    "println(s\"$r greater than or equal to $R   = ${r.ge(R)}\")\n",
    "println(s\"$r >= $R   = ${r >= R}\\n\")\n",
    "\n",
    "println(s\"$r less than $R   = ${r.lt(R)}\")\n",
    "println(s\"$r < $R   = ${r < R}\\n\")\n",
    "\n",
    "println(s\"$r less than or equal to $R   = ${r.le(R)}\")\n",
    "println(s\"$r <= $R   = ${r <= R}\\n\")\n",
    "\n",
    "println(s\"$r plus $R   = ${r.add(R)}\")\n",
    "println(s\"$r + $R   = ${r + R}\\n\")\n",
    "\n",
    "println(s\"$r minus $R   = ${r.sub(R)}\")\n",
    "println(s\"$r - $R   = ${r - R}\\n\")\n",
    "\n",
    "println(s\"$r times $R   = ${r.mul(R)}\")\n",
    "println(s\"$r * $R   = ${r * R}\\n\")\n",
    "\n",
    "println(s\"$r divided by $R   = ${r.div(R)}\")\n",
    "println(s\"$r / $R   = ${r / R}\")"
   ]
  },
  {
   "cell_type": "markdown",
   "metadata": {
    "collapsed": false
   },
   "source": [
    "# Binary Operations on `r` and `s`"
   ]
  },
  {
   "cell_type": "code",
   "execution_count": 6,
   "metadata": {
    "collapsed": false
   },
   "outputs": [
    {
     "name": "stdout",
     "output_type": "stream",
     "text": [
      "1/2 equal to 3/4   = false\n",
      "1/2 == 3/4   = false\n",
      "\n",
      "1/2 greater than 3/4   = false\n",
      "1/2 > 3/4   = false\n",
      "\n",
      "1/2 greater than or equal to 3/4   = false\n",
      "1/2 >= 3/4   = false\n",
      "\n",
      "1/2 less than 3/4   = true\n",
      "1/2 < 3/4   = true\n",
      "\n",
      "1/2 less than or equal to 3/4   = true\n",
      "1/2 <= 3/4   = true\n",
      "\n",
      "1/2 plus 3/4   = 5/4\n",
      "1/2 + 3/4   = 5/4\n",
      "\n",
      "1/2 minus 3/4   = -1/4\n",
      "1/2 - 3/4   = -1/4\n",
      "\n",
      "1/2 times 3/4   = 3/8\n",
      "1/2 * 3/4   = 3/8\n",
      "\n",
      "1/2 divided by 3/4   = 2/3\n",
      "1/2 / 3/4   = 2/3\n"
     ]
    },
    {
     "data": {
      "text/plain": []
     },
     "metadata": {},
     "output_type": "display_data"
    }
   ],
   "source": [
    "println(s\"$r equal to $s   = ${r.eq(s)}\")\n",
    "println(s\"$r == $s   = ${r == s}\\n\")\n",
    "\n",
    "println(s\"$r greater than $s   = ${r.gt(s)}\")\n",
    "println(s\"$r > $s   = ${r > s}\\n\")\n",
    "\n",
    "println(s\"$r greater than or equal to $s   = ${r.ge(s)}\")\n",
    "println(s\"$r >= $s   = ${r >= s}\\n\")\n",
    "\n",
    "println(s\"$r less than $s   = ${r.lt(s)}\")\n",
    "println(s\"$r < $s   = ${r < s}\\n\")\n",
    "\n",
    "println(s\"$r less than or equal to $s   = ${r.le(s)}\")\n",
    "println(s\"$r <= $s   = ${r <= s}\\n\")\n",
    "\n",
    "println(s\"$r plus $s   = ${r.add(s)}\")\n",
    "println(s\"$r + $s   = ${r + s}\\n\")\n",
    "\n",
    "println(s\"$r minus $s   = ${r.sub(s)}\")\n",
    "println(s\"$r - $s   = ${r - s}\\n\")\n",
    "\n",
    "println(s\"$r times $s   = ${r.mul(s)}\")\n",
    "println(s\"$r * $s   = ${r * s}\\n\")\n",
    "\n",
    "println(s\"$r divided by $s   = ${r.div(s)}\")\n",
    "println(s\"$r / $s   = ${r / s}\")"
   ]
  },
  {
   "cell_type": "markdown",
   "metadata": {
    "collapsed": false
   },
   "source": [
    "# Binary Operations on `nr` and `z`"
   ]
  },
  {
   "cell_type": "code",
   "execution_count": 7,
   "metadata": {
    "collapsed": false
   },
   "outputs": [
    {
     "name": "stdout",
     "output_type": "stream",
     "text": [
      "-1/2 equal to 0/1   = false\n",
      "-1/2 == 0/1   = false\n",
      "\n",
      "-1/2 greater than 0/1   = false\n",
      "-1/2 > 0/1   = false\n",
      "\n",
      "-1/2 greater than or equal to 0/1   = false\n",
      "-1/2 >= 0/1   = false\n",
      "\n",
      "-1/2 less than 0/1   = true\n",
      "-1/2 < 0/1   = true\n",
      "\n",
      "-1/2 less than or equal to 0/1   = true\n",
      "-1/2 <= 0/1   = true\n",
      "\n",
      "-1/2 plus 0/1   = -1/2\n",
      "-1/2 + 0/1   = -1/2\n",
      "\n",
      "-1/2 minus 0/1   = -1/2\n",
      "-1/2 - 0/1   = -1/2\n",
      "\n",
      "-1/2 times 0/1   = 0/1\n",
      "-1/2 * 0/1   = 0/1\n",
      "\n"
     ]
    },
    {
     "data": {
      "text/plain": []
     },
     "metadata": {},
     "output_type": "display_data"
    }
   ],
   "source": [
    "println(s\"$nr equal to $z   = ${nr.eq(z)}\")\n",
    "println(s\"$nr == $z   = ${nr == z}\\n\")\n",
    "\n",
    "println(s\"$nr greater than $z   = ${nr.gt(z)}\")\n",
    "println(s\"$nr > $z   = ${nr > z}\\n\")\n",
    "\n",
    "println(s\"$nr greater than or equal to $z   = ${nr.ge(z)}\")\n",
    "println(s\"$nr >= $z   = ${nr >= z}\\n\")\n",
    "\n",
    "println(s\"$nr less than $z   = ${nr.lt(z)}\")\n",
    "println(s\"$nr < $z   = ${nr < z}\\n\")\n",
    "\n",
    "println(s\"$nr less than or equal to $z   = ${nr.le(z)}\")\n",
    "println(s\"$nr <= $z   = ${nr <= z}\\n\")\n",
    "\n",
    "println(s\"$nr plus $z   = ${nr.add(z)}\")\n",
    "println(s\"$nr + $z   = ${nr + z}\\n\")\n",
    "\n",
    "println(s\"$nr minus $z   = ${nr.sub(z)}\")\n",
    "println(s\"$nr - $z   = ${nr - z}\\n\")\n",
    "\n",
    "println(s\"$nr times $z   = ${nr.mul(z)}\")\n",
    "println(s\"$nr * $z   = ${nr * z}\\n\")"
   ]
  },
  {
   "cell_type": "markdown",
   "metadata": {},
   "source": [
    "# Binary Operations on `z` and `Z`"
   ]
  },
  {
   "cell_type": "code",
   "execution_count": 8,
   "metadata": {
    "collapsed": false
   },
   "outputs": [
    {
     "name": "stdout",
     "output_type": "stream",
     "text": [
      "0/1 equal to 0/1   = true\n",
      "0/1 == 0/1   = true\n",
      "\n",
      "0/1 greater than 0/1   = false\n",
      "0/1 > 0/1   = false\n",
      "\n",
      "0/1 greater than or equal to 0/1   = true\n",
      "0/1 >= 0/1   = true\n",
      "\n",
      "0/1 less than 0/1   = false\n",
      "0/1 < 0/1   = false\n",
      "\n",
      "0/1 less than or equal to 0/1   = true\n",
      "0/1 <= 0/1   = true\n",
      "\n",
      "0/1 plus 0/1   = 0/1\n",
      "0/1 + 0/1   = 0/1\n",
      "\n",
      "0/1 minus 0/1   = 0/1\n",
      "0/1 - 0/1   = 0/1\n",
      "\n",
      "0/1 times 0/1   = 0/1\n",
      "0/1 * 0/1   = 0/1\n",
      "\n"
     ]
    },
    {
     "data": {
      "text/plain": []
     },
     "metadata": {},
     "output_type": "display_data"
    }
   ],
   "source": [
    "println(s\"$z equal to $Z   = ${z.eq(Z)}\")\n",
    "println(s\"$z == $Z   = ${z == Z}\\n\")\n",
    "\n",
    "println(s\"$z greater than $Z   = ${z.gt(Z)}\")\n",
    "println(s\"$z > $Z   = ${z > Z}\\n\")\n",
    "\n",
    "println(s\"$z greater than or equal to $Z   = ${z.ge(Z)}\")\n",
    "println(s\"$z >= $Z   = ${z >= Z}\\n\")\n",
    "\n",
    "println(s\"$z less than $Z   = ${z.lt(Z)}\")\n",
    "println(s\"$z < $Z   = ${z < Z}\\n\")\n",
    "\n",
    "println(s\"$z less than or equal to $Z   = ${z.le(Z)}\")\n",
    "println(s\"$z <= $Z   = ${z <= Z}\\n\")\n",
    "\n",
    "println(s\"$z plus $Z   = ${z.add(Z)}\")\n",
    "println(s\"$z + $Z   = ${z + Z}\\n\")\n",
    "\n",
    "println(s\"$z minus $Z   = ${z.sub(Z)}\")\n",
    "println(s\"$z - $Z   = ${z - Z}\\n\")\n",
    "\n",
    "println(s\"$z times $Z   = ${z.mul(Z)}\")\n",
    "println(s\"$z * $Z   = ${z * Z}\\n\")"
   ]
  }
 ],
 "metadata": {
  "kernelspec": {
   "display_name": "Scala 2.11",
   "language": "scala211",
   "name": "scala211"
  },
  "language_info": {
   "codemirror_mode": "text/x-scala",
   "file_extension": ".scala",
   "mimetype": "text/x-scala",
   "name": "scala211",
   "pygments_lexer": "scala",
   "version": "2.11.6"
  },
  "latex_envs": {
   "bibliofile": "biblio.bib",
   "cite_by": "apalike",
   "current_citInitial": 1,
   "eqLabelWithNumbers": true,
   "eqNumInitial": 0
  },
  "toc": {
   "toc_cell": false,
   "toc_number_sections": true,
   "toc_threshold": 4,
   "toc_window_display": true
  }
 },
 "nbformat": 4,
 "nbformat_minor": 0
}
