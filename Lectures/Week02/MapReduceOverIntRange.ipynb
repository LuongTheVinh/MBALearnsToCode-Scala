{
 "cells": [
  {
   "cell_type": "code",
   "execution_count": 1,
   "metadata": {
    "collapsed": false
   },
   "outputs": [
    {
     "data": {
      "text/plain": [
       "defined \u001b[32mfunction \u001b[36mmapReduce\u001b[0m"
      ]
     },
     "metadata": {},
     "output_type": "display_data"
    }
   ],
   "source": [
    "def mapReduce(\n",
    "        mapFunc: Int => Double)(\n",
    "            reduceFunc: (Double, Double) => Double,\n",
    "            reduceAccForEmpty: Double)(\n",
    "                fromInt: Int,\n",
    "                toInt: Int): Double = {\n",
    "\n",
    "    def recursive_reduce(acc: Double, i: Int): Double =\n",
    "        if (i > toInt) acc else recursive_reduce(reduceFunc(acc, mapFunc(i)), i + 1)\n",
    "    \n",
    "    recursive_reduce(reduceAccForEmpty, fromInt)\n",
    "\n",
    "}"
   ]
  },
  {
   "cell_type": "code",
   "execution_count": 2,
   "metadata": {
    "collapsed": false
   },
   "outputs": [
    {
     "name": "stdout",
     "output_type": "stream",
     "text": [
      "Sum of Integers from 10 to 20 = 165.0\n"
     ]
    },
    {
     "data": {
      "text/plain": [
       "\u001b[36mfromInt\u001b[0m: \u001b[32mInt\u001b[0m = \u001b[32m10\u001b[0m\n",
       "\u001b[36mtoInt\u001b[0m: \u001b[32mInt\u001b[0m = \u001b[32m20\u001b[0m\n",
       "\u001b[36mresult\u001b[0m: \u001b[32mDouble\u001b[0m = \u001b[32m165.0\u001b[0m"
      ]
     },
     "metadata": {},
     "output_type": "display_data"
    }
   ],
   "source": [
    "val fromInt = 10\n",
    "val toInt = 20\n",
    "\n",
    "val result = mapReduce(x => x)((x, y) => x + y, 0)(fromInt, toInt)\n",
    "\n",
    "println(f\"Sum of Integers from $fromInt%d to $toInt%d = $result%.1f\")"
   ]
  },
  {
   "cell_type": "code",
   "execution_count": 3,
   "metadata": {
    "collapsed": false
   },
   "outputs": [
    {
     "name": "stdout",
     "output_type": "stream",
     "text": [
      "Sum of Cubes of Integers from 2 to 4 = 99.0\n"
     ]
    },
    {
     "data": {
      "text/plain": [
       "\u001b[36mfromInt\u001b[0m: \u001b[32mInt\u001b[0m = \u001b[32m2\u001b[0m\n",
       "\u001b[36mtoInt\u001b[0m: \u001b[32mInt\u001b[0m = \u001b[32m4\u001b[0m\n",
       "\u001b[36mresult\u001b[0m: \u001b[32mDouble\u001b[0m = \u001b[32m99.0\u001b[0m"
      ]
     },
     "metadata": {},
     "output_type": "display_data"
    }
   ],
   "source": [
    "val fromInt = 2\n",
    "val toInt = 4\n",
    "\n",
    "val result = mapReduce(x => x * x * x)((x, y) => x + y, 0)(fromInt, toInt) \n",
    "\n",
    "println(f\"Sum of Cubes of Integers from $fromInt%d to $toInt%d = $result%.1f\")"
   ]
  },
  {
   "cell_type": "code",
   "execution_count": 4,
   "metadata": {
    "collapsed": false
   },
   "outputs": [
    {
     "name": "stdout",
     "output_type": "stream",
     "text": [
      "0! = 1.0\n"
     ]
    },
    {
     "data": {
      "text/plain": [
       "\u001b[36mn\u001b[0m: \u001b[32mInt\u001b[0m = \u001b[32m0\u001b[0m\n",
       "\u001b[36mresult\u001b[0m: \u001b[32mDouble\u001b[0m = \u001b[32m1.0\u001b[0m"
      ]
     },
     "metadata": {},
     "output_type": "display_data"
    }
   ],
   "source": [
    "val n = 0\n",
    "\n",
    "val result = mapReduce(x => x)((x, y) => x * y, 1)(1, n)\n",
    "\n",
    "println(f\"$n%d! = $result%.1f\")"
   ]
  },
  {
   "cell_type": "code",
   "execution_count": 5,
   "metadata": {
    "collapsed": false
   },
   "outputs": [
    {
     "name": "stdout",
     "output_type": "stream",
     "text": [
      "6! = 720.0\n"
     ]
    },
    {
     "data": {
      "text/plain": [
       "\u001b[36mn\u001b[0m: \u001b[32mInt\u001b[0m = \u001b[32m6\u001b[0m\n",
       "\u001b[36mresult\u001b[0m: \u001b[32mDouble\u001b[0m = \u001b[32m720.0\u001b[0m"
      ]
     },
     "metadata": {},
     "output_type": "display_data"
    }
   ],
   "source": [
    "val n = 6\n",
    "\n",
    "val result = mapReduce(x => x)((x, y) => x * y, 1)(1, n)\n",
    "\n",
    "println(f\"$n%d! = $result%.1f\")"
   ]
  }
 ],
 "metadata": {
  "kernelspec": {
   "display_name": "Scala 2.11",
   "language": "scala211",
   "name": "scala211"
  },
  "language_info": {
   "codemirror_mode": "text/x-scala",
   "file_extension": ".scala",
   "mimetype": "text/x-scala",
   "name": "scala211",
   "pygments_lexer": "scala",
   "version": "2.11.6"
  },
  "latex_envs": {
   "bibliofile": "biblio.bib",
   "cite_by": "apalike",
   "current_citInitial": 1,
   "eqLabelWithNumbers": true,
   "eqNumInitial": 0
  },
  "toc": {
   "toc_cell": false,
   "toc_number_sections": true,
   "toc_threshold": 4,
   "toc_window_display": true
  }
 },
 "nbformat": 4,
 "nbformat_minor": 0
}
