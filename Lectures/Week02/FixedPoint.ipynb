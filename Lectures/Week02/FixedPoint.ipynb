{
 "cells": [
  {
   "cell_type": "markdown",
   "metadata": {
    "collapsed": false
   },
   "source": [
    "Import `Scala` modules:"
   ]
  },
  {
   "cell_type": "code",
   "execution_count": 1,
   "metadata": {
    "collapsed": false
   },
   "outputs": [
    {
     "data": {
      "text/plain": [
       "\u001b[32mimport \u001b[36mmath.abs\u001b[0m"
      ]
     },
     "metadata": {},
     "output_type": "display_data"
    }
   ],
   "source": [
    "import math.abs"
   ]
  },
  {
   "cell_type": "markdown",
   "metadata": {},
   "source": [
    "Set _CONSTANTS_:"
   ]
  },
  {
   "cell_type": "code",
   "execution_count": 2,
   "metadata": {
    "collapsed": false
   },
   "outputs": [
    {
     "data": {
      "text/plain": [
       "\u001b[36mClosenessRelTol\u001b[0m: \u001b[32mDouble\u001b[0m = \u001b[32m0.001\u001b[0m"
      ]
     },
     "metadata": {},
     "output_type": "display_data"
    }
   ],
   "source": [
    "val ClosenessRelTol = 1e-3"
   ]
  },
  {
   "cell_type": "markdown",
   "metadata": {},
   "source": [
    "__`fixedPoint`__ function:"
   ]
  },
  {
   "cell_type": "code",
   "execution_count": 3,
   "metadata": {
    "collapsed": false
   },
   "outputs": [
    {
     "data": {
      "text/plain": [
       "defined \u001b[32mfunction \u001b[36mfixedPoint\u001b[0m"
      ]
     },
     "metadata": {},
     "output_type": "display_data"
    }
   ],
   "source": [
    "def fixedPoint(func: Double => Double)(firstGuess: Double): Double = {\n",
    "    \n",
    "    def isClose(x: Double, y: Double) =\n",
    "        abs((x - y) / x) < ClosenessRelTol\n",
    "    \n",
    "    def recursiveGuess(guess: Double): Double = {\n",
    "        \n",
    "        val nextGuess = func(guess)\n",
    "        \n",
    "        if (isClose(guess, nextGuess)) guess else recursiveGuess(nextGuess)\n",
    "        \n",
    "    }\n",
    "    \n",
    "    recursiveGuess(firstGuess)\n",
    "    \n",
    "}"
   ]
  },
  {
   "cell_type": "code",
   "execution_count": 4,
   "metadata": {
    "collapsed": false
   },
   "outputs": [
    {
     "name": "stdout",
     "output_type": "stream",
     "text": [
      "Fixed Point of f(x) = 1 + x / 2: 2.00\n"
     ]
    },
    {
     "data": {
      "text/plain": [
       "defined \u001b[32mfunction \u001b[36mfunc\u001b[0m\n",
       "\u001b[36mresult\u001b[0m: \u001b[32mDouble\u001b[0m = \u001b[32m1.99609375\u001b[0m"
      ]
     },
     "metadata": {},
     "output_type": "display_data"
    }
   ],
   "source": [
    "def func = (x: Double) => 1 + x / 2\n",
    "\n",
    "val result = fixedPoint(func)(.0)\n",
    "\n",
    "println(f\"Fixed Point of f(x) = 1 + x / 2: $result%.3g\")"
   ]
  },
  {
   "cell_type": "code",
   "execution_count": 5,
   "metadata": {
    "collapsed": false
   },
   "outputs": [
    {
     "name": "stdout",
     "output_type": "stream",
     "text": [
      "Square Root of 2.00 = 1.41\n"
     ]
    },
    {
     "data": {
      "text/plain": [
       "\u001b[36mx\u001b[0m: \u001b[32mDouble\u001b[0m = \u001b[32m2.0\u001b[0m\n",
       "\u001b[36mresult\u001b[0m: \u001b[32mDouble\u001b[0m = \u001b[32m1.4142156862745097\u001b[0m"
      ]
     },
     "metadata": {},
     "output_type": "display_data"
    }
   ],
   "source": [
    "val x = 2.0\n",
    "\n",
    "val result = fixedPoint(guess => (guess + x / guess) / 2)(1.0)\n",
    "\n",
    "println(f\"Square Root of $x%.3g = $result%.3g\")"
   ]
  }
 ],
 "metadata": {
  "kernelspec": {
   "display_name": "Scala 2.11",
   "language": "scala211",
   "name": "scala211"
  },
  "language_info": {
   "codemirror_mode": "text/x-scala",
   "file_extension": ".scala",
   "mimetype": "text/x-scala",
   "name": "scala211",
   "pygments_lexer": "scala",
   "version": "2.11.6"
  },
  "latex_envs": {
   "bibliofile": "biblio.bib",
   "cite_by": "apalike",
   "current_citInitial": 1,
   "eqLabelWithNumbers": true,
   "eqNumInitial": 0
  },
  "toc": {
   "toc_cell": false,
   "toc_number_sections": true,
   "toc_threshold": 4,
   "toc_window_display": true
  }
 },
 "nbformat": 4,
 "nbformat_minor": 0
}
